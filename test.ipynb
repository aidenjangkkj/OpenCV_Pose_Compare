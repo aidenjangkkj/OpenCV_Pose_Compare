{
 "cells": [
  {
   "cell_type": "code",
   "execution_count": 1,
   "metadata": {},
   "outputs": [
    {
     "name": "stderr",
     "output_type": "stream",
     "text": [
      "c:\\Users\\JangSeokHwan\\AppData\\Local\\Programs\\Python\\Python312\\Lib\\site-packages\\tqdm\\auto.py:21: TqdmWarning: IProgress not found. Please update jupyter and ipywidgets. See https://ipywidgets.readthedocs.io/en/stable/user_install.html\n",
      "  from .autonotebook import tqdm as notebook_tqdm\n"
     ]
    },
    {
     "name": "stdout",
     "output_type": "stream",
     "text": [
      "Running on local URL:  http://127.0.0.1:7860\n",
      "\n",
      "To create a public link, set `share=True` in `launch()`.\n"
     ]
    },
    {
     "data": {
      "text/html": [
       "<div><iframe src=\"http://127.0.0.1:7860/\" width=\"100%\" height=\"500\" allow=\"autoplay; camera; microphone; clipboard-read; clipboard-write;\" frameborder=\"0\" allowfullscreen></iframe></div>"
      ],
      "text/plain": [
       "<IPython.core.display.HTML object>"
      ]
     },
     "metadata": {},
     "output_type": "display_data"
    },
    {
     "data": {
      "text/plain": []
     },
     "execution_count": 1,
     "metadata": {},
     "output_type": "execute_result"
    }
   ],
   "source": [
    "import gradio as gr\n",
    "from PIL import Image\n",
    "from dotenv import load_dotenv\n",
    "import random\n",
    "import cv2\n",
    "import numpy as np\n",
    "import google.generativeai as genai\n",
    "\n",
    "load_dotenv()\n",
    "\n",
    "genai.configure()\n",
    "\n",
    "example_images = {\n",
    "    \"플랭크\": \"plank.jpg\",\n",
    "    \"팔굽혀펴기\": \"pushup.jpg\"\n",
    "}\n",
    "\n",
    "youtube_videos = {\n",
    "    \"플랭크\": [\n",
    "        \"https://www.youtube.com/embed/1T6P56q1FtY\",\n",
    "        \"https://www.youtube.com/embed/Zq8nRY9P_cM\",\n",
    "        \"https://www.youtube.com/embed/iNdDN4GKtHk\",\n",
    "        \"https://www.youtube.com/embed/v54Jtmi2BwU\",\n",
    "        \"https://www.youtube.com/embed/N7Izxcyu2XI\",\n",
    "        \"https://www.youtube.com/embed/1-KnmYQMsE8\"\n",
    "    ],\n",
    "    \"팔굽혀펴기\": [\n",
    "        \"https://www.youtube.com/embed/IODxDxX7oi4\",\n",
    "        \"https://www.youtube.com/embed/0pkjOk0EiAk\",\n",
    "        \"https://www.youtube.com/embed/blzrPdzxzHQ\",\n",
    "        \"https://www.youtube.com/embed/fh4y5dGZX9c\",\n",
    "        \"https://www.youtube.com/embed/EHPMNaWNdPQ\",\n",
    "        \"https://www.youtube.com/embed/rR4p13vgDFA\"\n",
    "    ]\n",
    "}\n",
    "\n",
    "\n",
    "# 제미나이 프롬프트\n",
    "def analyze_pose_with_genai(image):\n",
    "    vmodel = genai.GenerativeModel('gemini-pro-vision')\n",
    "    response = vmodel.generate_content([\n",
    "        \"운동자세에서 잘못된 부분을 지적해 주세요. 번호를 매겨주세요.\",\n",
    "        image\n",
    "    ])\n",
    "    return response.text\n",
    "\n",
    "# 유사도 비교\n",
    "def process(exercise, image1, image2):\n",
    "    # 미리 작성한 유튜브 영상 랜덤 추출\n",
    "    youtube_url = random.choice(youtube_videos.get(exercise, []))\n",
    "    youtube_html = f'<iframe width=\"560\" height=\"315\" src=\"{youtube_url}\" frameborder=\"0\" allowfullscreen></iframe>'\n",
    "\n",
    "    # 이미지 -> 배열 변환\n",
    "    uploaded_image = np.array(image1)\n",
    "    # 회색조 적용\n",
    "    if uploaded_image.ndim == 3 and uploaded_image.shape[2] == 3:\n",
    "        uploaded_image = cv2.cvtColor(uploaded_image, cv2.COLOR_RGB2GRAY)\n",
    "\n",
    "    # 예시 이미지 로드\n",
    "    example_image_path = example_images.get(exercise)\n",
    "    example_image = cv2.imread(example_image_path, cv2.IMREAD_GRAYSCALE)\n",
    "    example_image = cv2.resize(example_image, (500, 500))\n",
    "\n",
    "    # 히스토그램 값 계산 및 정규화\n",
    "    example_hist = cv2.calcHist([example_image], [0], None, [256], [0, 256])\n",
    "    uploaded_hist = cv2.calcHist([uploaded_image], [0], None, [256], [0, 256])\n",
    "    example_hist = cv2.normalize(example_hist, example_hist).flatten()\n",
    "    uploaded_hist = cv2.normalize(uploaded_hist, uploaded_hist).flatten()\n",
    "\n",
    "    # 히스토그램 값 비교\n",
    "    score = cv2.compareHist(example_hist, uploaded_hist, cv2.HISTCMP_CORREL)\n",
    "\n",
    "    # 제미나이 피드백 생성\n",
    "    pose_feedback = analyze_pose_with_genai(image1)\n",
    "    \n",
    "    # 점수에 따라 코멘트 제공\n",
    "    if score < 0.7:\n",
    "        message = \"자세가 조금 불안정해요. 영상을 보고 연습해보세요!\"\n",
    "    else:\n",
    "        message = \"자세가 아주 좋아요! 더 완벽하게 할 수 있게 영상을 보고 연습해보세요!\"\n",
    "\n",
    "    # 유사도 계산\n",
    "    result_message = f\"유사도 점수: {score:.2f} - {message}\" + f\"자세 피드백: {pose_feedback}\"\n",
    "\n",
    "    return youtube_html, result_message\n",
    "\n",
    "def show_example_image(exercise):\n",
    "    example_image_path = example_images.get(exercise, None)\n",
    "    if exercise == \"팔굽혀펴기\":\n",
    "        return gr.update(visible=True), gr.update(visible=True), example_image_path, \"왼쪽 이미지를 보고 올바른 자세로 사진을 찍어주세요.\"\n",
    "    elif exercise == \"플랭크\":\n",
    "        return gr.update(visible=True), gr.update(visible=False), example_image_path, \"왼쪽 이미지를 보고 올바른 자세로 사진을 찍어주세요.\"\n",
    "    else:\n",
    "        return gr.update(visible=False), gr.update(visible=False), None, \"\"\n",
    "\n",
    "\n",
    "with gr.Blocks() as blocks:\n",
    "    with gr.Row():\n",
    "        exercise_input = gr.Radio(label=\"어떤 운동인가요?\", choices=[\"플랭크\", \"팔굽혀펴기\"])\n",
    "        \n",
    "    with gr.Row():\n",
    "        example_image_output = gr.Image(type=\"pil\")\n",
    "        example_description = gr.HTML()\n",
    "    \n",
    "    with gr.Row():\n",
    "        image_input1 = gr.Image(label=\"이미지를 업로드해주세요.\", visible=False, type=\"pil\")\n",
    "        image_input2 = gr.Image(label=\"이미지를 업로드해주세요.\", visible=False, type=\"pil\")\n",
    "    \n",
    "    with gr.Row():\n",
    "        submit_button = gr.Button(\"Submit\")\n",
    "        \n",
    "    with gr.Row():\n",
    "        youtube_output = gr.HTML(label=\"유튜브 동영상\")\n",
    "        similarity_score = gr.HTML(label=\"유사도 점수\")\n",
    "\n",
    "    exercise_input.change(\n",
    "        fn=show_example_image,\n",
    "        inputs=exercise_input,\n",
    "        outputs=[image_input1, image_input2, example_image_output, example_description]\n",
    "    )\n",
    "\n",
    "    submit_button.click(\n",
    "        fn=process,\n",
    "        inputs=[exercise_input, image_input1, image_input2],\n",
    "        outputs=[youtube_output, similarity_score]\n",
    "    )\n",
    "\n",
    "blocks.launch()\n"
   ]
  }
 ],
 "metadata": {
  "kernelspec": {
   "display_name": "Python 3",
   "language": "python",
   "name": "python3"
  },
  "language_info": {
   "codemirror_mode": {
    "name": "ipython",
    "version": 3
   },
   "file_extension": ".py",
   "mimetype": "text/x-python",
   "name": "python",
   "nbconvert_exporter": "python",
   "pygments_lexer": "ipython3",
   "version": "3.12.3"
  }
 },
 "nbformat": 4,
 "nbformat_minor": 2
}
